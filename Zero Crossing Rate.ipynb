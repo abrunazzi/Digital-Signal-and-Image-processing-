{
  "nbformat": 4,
  "nbformat_minor": 0,
  "metadata": {
    "colab": {
      "provenance": []
    },
    "kernelspec": {
      "name": "python3",
      "display_name": "Python 3"
    },
    "language_info": {
      "name": "python"
    }
  },
  "cells": [
    {
      "cell_type": "markdown",
      "source": [
        "**Assignment: Zero-Crossing Rate**\n",
        "\n",
        "count how many times the signal goes from positive to negative, and from negative to positive.\n",
        "\n",
        "*Possible approach:*\n",
        "\n",
        "Shift the signal by one unit\n",
        "Compare point-by-point the sign (np.sign()) of the original signal and of the shifted signal\n",
        "Accumulate the instances of sign change\n",
        "\n",
        "\n"
      ],
      "metadata": {
        "id": "kRYKhNEKGWn0"
      }
    },
    {
      "cell_type": "code",
      "source": [
        "import os\n",
        "import numpy as np\n",
        "from time import time\n",
        "from scipy.io import wavfile as wav\n",
        "\n",
        "import matplotlib.pyplot as plt\n",
        "import IPython.display as ipd # Notebook only\n",
        "\n",
        "# Classification tools\n",
        "from sklearn.svm import SVC\n",
        "from sklearn.model_selection import train_test_split, GridSearchCV\n",
        "from sklearn.metrics import classification_report, confusion_matrix\n",
        "\n",
        "# File management\n",
        "from google.colab import drive\n",
        "import tarfile\n",
        "from shutil import copyfile\n",
        "\n",
        "# Frequency analysis\n",
        "from scipy.fft import fft, fftfreq, rfft, rfftfreq\n",
        "from scipy.signal import spectrogram\n",
        "from librosa.feature import melspectrogram, mfcc\n",
        "from librosa.display import specshow"
      ],
      "metadata": {
        "id": "a3Njn55-G8iJ"
      },
      "execution_count": 1,
      "outputs": []
    },
    {
      "cell_type": "code",
      "source": [
        "copyfile('/content/drive/MyDrive/Digital signal and image management/recordings (1).tar', 'recordings.tar')\n",
        "tar = tarfile.open('recordings.tar')\n",
        "tar.extractall()\n",
        "tar.close()\n",
        "# Import file\n",
        "sound_rate, sound_data = wav.read('recordings/0_jackson_0.wav')\n",
        "# Play the signal\n",
        "ipd.Audio(sound_data, rate=sound_rate)"
      ],
      "metadata": {
        "colab": {
          "base_uri": "https://localhost:8080/",
          "height": 76
        },
        "id": "YwnnvgaaG_4J",
        "outputId": "77e9a431-3d2e-420a-b05c-5f646aa5b9dc"
      },
      "execution_count": 2,
      "outputs": [
        {
          "output_type": "execute_result",
          "data": {
            "text/plain": [
              "<IPython.lib.display.Audio object>"
            ],
            "text/html": [
              "\n",
              "                <audio  controls=\"controls\" >\n",
              "                    <source src=\"data:audio/wav;base64,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\" type=\"audio/wav\" />\n",
              "                    Your browser does not support the audio element.\n",
              "                </audio>\n",
              "              "
            ]
          },
          "metadata": {},
          "execution_count": 2
        }
      ]
    },
    {
      "cell_type": "markdown",
      "source": [
        "1- COMPUTE ZCR\n",
        "The function np.sign() returns an array of values 1,0 and -1, for every pair of consecutive values in the array np.diff() calculate the difference. A change in sign indicates a zero crossing. The measure computed is relative"
      ],
      "metadata": {
        "id": "HKLWlJPZI7Aq"
      }
    },
    {
      "cell_type": "code",
      "source": [
        "def computezcr(signal):\n",
        "    sign_changes = np.sign(signal)\n",
        "    zero_crossings = np.diff(sign_changes)\n",
        "    zcr = np.sum(zero_crossings != 0) / len(signal)\n",
        "    return np.array([zcr])"
      ],
      "metadata": {
        "id": "53qYPuAxGh_a"
      },
      "execution_count": 7,
      "outputs": []
    },
    {
      "cell_type": "code",
      "source": [
        "# Placecholder for feature extractor\n",
        "def identity(input):\n",
        "    return input\n",
        "\n",
        "# Data loader\n",
        "def load_data(feature_extractor=identity, normalize=False):\n",
        "\n",
        "    labels = []\n",
        "    features = []\n",
        "\n",
        "    for f in sorted(os.listdir('./recordings')):\n",
        "        if f.endswith('.wav'):\n",
        "            # Load file and compute the requested features\n",
        "            _, signal = wav.read('./recordings/' + f)\n",
        "            cur_features = feature_extractor(signal)\n",
        "            features.append(cur_features)\n",
        "\n",
        "            # Classes\n",
        "            label = f.split('_')[0]\n",
        "            labels.append(label)\n",
        "\n",
        "    # X: features, y: labels\n",
        "    X_train, X_test, y_train, y_test = train_test_split(features, labels, test_size=0.1, random_state=1)\n",
        "\n",
        "    if normalize:\n",
        "        eps = 0.001\n",
        "        X_train = np.array(X_train)\n",
        "        X_train_mean = X_train.mean(axis=0)\n",
        "        X_train_std = X_train.std(axis=0)\n",
        "        X_train = (X_train - X_train_mean + eps)/(X_train_std + eps)\n",
        "        X_train = [row for row in X_train]\n",
        "\n",
        "        X_test = [row for row in (np.array(X_test) - X_train_mean + eps)/(X_train_std + eps)]\n",
        "\n",
        "    return X_train, X_test, y_train, y_test\n"
      ],
      "metadata": {
        "id": "vAqXKCIHGzJn"
      },
      "execution_count": 8,
      "outputs": []
    },
    {
      "cell_type": "markdown",
      "source": [
        "2- TRAIN Support VectorMachine Classifier using ZCR\n"
      ],
      "metadata": {
        "id": "-zHuaLdfMAjI"
      }
    },
    {
      "cell_type": "code",
      "source": [
        "# Data loading with ZCR feature\n",
        "X_train, X_test, y_train, y_test = load_data(feature_extractor=computezcr, normalize=True)\n",
        "\n",
        "# Stampa informazioni sui dati caricati\n",
        "print('Number of training examples: {}'.format(len(X_train)))\n",
        "print('Dimensionality of the training features: {}'.format(np.array(X_train[0]).shape))\n",
        "\n",
        "\n",
        "\n",
        "# SVM initialization and training\n",
        "clf = SVC(kernel='rbf', class_weight='balanced')\n",
        "clf = clf.fit(X_train, y_train)\n",
        "\n",
        "# SVM test\n",
        "y_pred = clf.predict(X_test)\n",
        "\n",
        "# Confusion matrix\n",
        "cm = confusion_matrix(y_test, y_pred)\n",
        "plt.imshow(cm, cmap=plt.cm.Oranges)\n",
        "plt.xlabel('Prediction')\n",
        "plt.ylabel('Ground truth')\n",
        "plt.colorbar()\n",
        "plt.show()\n"
      ],
      "metadata": {
        "colab": {
          "base_uri": "https://localhost:8080/",
          "height": 486
        },
        "id": "A8x8iO6vMIXa",
        "outputId": "126850c1-1596-445f-b9cd-0b8fd64c059f"
      },
      "execution_count": 9,
      "outputs": [
        {
          "output_type": "stream",
          "name": "stdout",
          "text": [
            "Number of training examples: 1350\n",
            "Dimensionality of the training features: (1,)\n"
          ]
        },
        {
          "output_type": "display_data",
          "data": {
            "text/plain": [
              "<Figure size 640x480 with 2 Axes>"
            ],
            "image/png": "[encoded data removed]"
          },
          "metadata": {}
        }
      ]
    },
    {
      "cell_type": "code",
      "source": [
        "# Classification report\n",
        "print(classification_report(y_test, y_pred))\n"
      ],
      "metadata": {
        "colab": {
          "base_uri": "https://localhost:8080/"
        },
        "id": "2-4z-NsWMIan",
        "outputId": "7429f78b-8ae7-41e5-c8f2-14647c75dc62"
      },
      "execution_count": 10,
      "outputs": [
        {
          "output_type": "stream",
          "name": "stdout",
          "text": [
            "              precision    recall  f1-score   support\n",
            "\n",
            "           0       0.31      0.29      0.30        17\n",
            "           1       0.22      0.60      0.32        10\n",
            "           2       0.27      0.27      0.27        15\n",
            "           3       0.00      0.00      0.00        19\n",
            "           4       0.17      0.27      0.21        11\n",
            "           5       0.00      0.00      0.00        14\n",
            "           6       0.76      0.93      0.84        14\n",
            "           7       0.25      0.32      0.28        19\n",
            "           8       0.33      0.65      0.44        17\n",
            "           9       0.00      0.00      0.00        14\n",
            "\n",
            "    accuracy                           0.32       150\n",
            "   macro avg       0.23      0.33      0.27       150\n",
            "weighted avg       0.23      0.32      0.26       150\n",
            "\n"
          ]
        },
        {
          "output_type": "stream",
          "name": "stderr",
          "text": [
            "/usr/local/lib/python3.10/dist-packages/sklearn/metrics/_classification.py:1531: UndefinedMetricWarning: Precision is ill-defined and being set to 0.0 in labels with no predicted samples. Use `zero_division` parameter to control this behavior.\n",
            "  _warn_prf(average, modifier, f\"{metric.capitalize()} is\", len(result))\n",
            "/usr/local/lib/python3.10/dist-packages/sklearn/metrics/_classification.py:1531: UndefinedMetricWarning: Precision is ill-defined and being set to 0.0 in labels with no predicted samples. Use `zero_division` parameter to control this behavior.\n",
            "  _warn_prf(average, modifier, f\"{metric.capitalize()} is\", len(result))\n",
            "/usr/local/lib/python3.10/dist-packages/sklearn/metrics/_classification.py:1531: UndefinedMetricWarning: Precision is ill-defined and being set to 0.0 in labels with no predicted samples. Use `zero_division` parameter to control this behavior.\n",
            "  _warn_prf(average, modifier, f\"{metric.capitalize()} is\", len(result))\n"
          ]
        }
      ]
    },
    {
      "cell_type": "markdown",
      "source": [
        "The model correctly predicts 32% of the instances, which is low. The model fails to identify Class 9,3 and 5."
      ],
      "metadata": {
        "id": "7_n7KxAK2fo5"
      }
    },
    {
      "cell_type": "markdown",
      "source": [
        "**COMBO** Energy, Duration and Zero Crossing Rate"
      ],
      "metadata": {
        "id": "pcQ_D1zWWLVl"
      }
    },
    {
      "cell_type": "code",
      "source": [
        "# ENERGY\n",
        "def energy(signal):\n",
        "    return np.sum((signal*1.0)**2, keepdims=True)"
      ],
      "metadata": {
        "id": "ApliSGmwWZYS"
      },
      "execution_count": 11,
      "outputs": []
    },
    {
      "cell_type": "code",
      "source": [
        "def duration(signal):\n",
        "    return np.array(signal.shape)"
      ],
      "metadata": {
        "id": "w1lRzmfOWjRq"
      },
      "execution_count": 12,
      "outputs": []
    },
    {
      "cell_type": "code",
      "source": [
        "def combo2(signal):\n",
        "    return np.concatenate((energy(signal),duration(signal),computezcr(signal)))"
      ],
      "metadata": {
        "id": "5P8QRphoMId6"
      },
      "execution_count": 13,
      "outputs": []
    },
    {
      "cell_type": "code",
      "source": [
        "\n",
        "X_train, X_test, y_train, y_test = load_data(feature_extractor=combo2, normalize=True)\n",
        "\n",
        "\n",
        "print('Number of training examples: {}'.format(len(X_train)))\n",
        "print('Dimensionality of the training features: {}'.format(np.array(X_train[0]).shape))\n",
        "\n",
        "\n"
      ],
      "metadata": {
        "id": "D2ZeRcHaWXhF",
        "colab": {
          "base_uri": "https://localhost:8080/"
        },
        "outputId": "90eb0fd3-cb23-4978-e54b-e985ed3df19c"
      },
      "execution_count": 14,
      "outputs": [
        {
          "output_type": "stream",
          "name": "stdout",
          "text": [
            "Number of training examples: 1350\n",
            "Dimensionality of the training features: (3,)\n"
          ]
        }
      ]
    },
    {
      "cell_type": "code",
      "source": [
        "# Parameters to be tested in cross-validation\n",
        "param_grid = {'C': [100, 500, 1000],\n",
        "          'gamma': [0.005, 0.01, 0.1, 0.5, 1.0], }\n",
        "\n",
        "# Support Vector Machine initialization\n",
        "clf = GridSearchCV(SVC(kernel='rbf', class_weight='balanced'), param_grid, cv=2)\n",
        "\n",
        "# Training\n",
        "t0 = time()\n",
        "clf = clf.fit(X_train, y_train)\n",
        "print('Training completed in %0.3fs' % (time() - t0))\n",
        "\n",
        "# Result of the cross validation for parameters selection\n",
        "print('Best parameters combination:')\n",
        "print(' C: '+str(clf.best_estimator_.C))\n",
        "print(' gamma: '+str(clf.best_estimator_.gamma))"
      ],
      "metadata": {
        "colab": {
          "base_uri": "https://localhost:8080/"
        },
        "id": "aS3DUTx_YTjh",
        "outputId": "48b336e4-7639-49f5-c317-a9ef0549dc0f"
      },
      "execution_count": 15,
      "outputs": [
        {
          "output_type": "stream",
          "name": "stdout",
          "text": [
            "Training completed in 8.448s\n",
            "Best parameters combination:\n",
            " C: 100\n",
            " gamma: 0.5\n"
          ]
        },
        {
          "output_type": "stream",
          "name": "stderr",
          "text": [
            "/usr/local/lib/python3.10/dist-packages/numpy/ma/core.py:2820: RuntimeWarning: invalid value encountered in cast\n",
            "  _data = np.array(data, dtype=dtype, copy=copy,\n"
          ]
        }
      ]
    },
    {
      "cell_type": "code",
      "source": [
        "# SVM test\n",
        "y_pred = clf.predict(X_test)\n",
        "print(classification_report(y_test, y_pred))"
      ],
      "metadata": {
        "colab": {
          "base_uri": "https://localhost:8080/"
        },
        "id": "Khrt1O-_aDsx",
        "outputId": "1496c27a-452c-487b-cf12-1d40806a38d7"
      },
      "execution_count": 16,
      "outputs": [
        {
          "output_type": "stream",
          "name": "stdout",
          "text": [
            "              precision    recall  f1-score   support\n",
            "\n",
            "           0       0.67      0.59      0.62        17\n",
            "           1       0.35      0.70      0.47        10\n",
            "           2       0.44      0.47      0.45        15\n",
            "           3       0.50      0.32      0.39        19\n",
            "           4       0.41      0.64      0.50        11\n",
            "           5       0.33      0.36      0.34        14\n",
            "           6       0.86      0.86      0.86        14\n",
            "           7       0.27      0.16      0.20        19\n",
            "           8       0.60      0.53      0.56        17\n",
            "           9       0.67      0.71      0.69        14\n",
            "\n",
            "    accuracy                           0.51       150\n",
            "   macro avg       0.51      0.53      0.51       150\n",
            "weighted avg       0.51      0.51      0.50       150\n",
            "\n"
          ]
        }
      ]
    },
    {
      "cell_type": "code",
      "source": [
        "# Confusion matrix\n",
        "print('Confusion matrix:')\n",
        "cm = confusion_matrix(y_test, y_pred)\n",
        "plt.imshow(cm, cmap=plt.cm.Oranges);\n",
        "plt.xlabel('Prediction');\n",
        "plt.ylabel('Ground truth');"
      ],
      "metadata": {
        "colab": {
          "base_uri": "https://localhost:8080/",
          "height": 467
        },
        "id": "db6BIIg7aIOt",
        "outputId": "f45a5b5c-4f01-414e-af88-cb09c1c99d10"
      },
      "execution_count": 17,
      "outputs": [
        {
          "output_type": "stream",
          "name": "stdout",
          "text": [
            "Confusion matrix:\n"
          ]
        },
        {
          "output_type": "display_data",
          "data": {
            "text/plain": [
              "<Figure size 640x480 with 1 Axes>"
            ],
            "image/png": "[encoded data removed]"
          },
          "metadata": {}
        }
      ]
    },
    {
      "cell_type": "markdown",
      "source": [
        "The model correctly predicts 51% of the instances, showing improvement over the previous result (32% accuracy). Class 9 has now higher values, even though the model still struggles with class 3 and 5."
      ],
      "metadata": {
        "id": "e0qs1c4i3AFf"
      }
    },
    {
      "cell_type": "markdown",
      "source": [
        "**COMBO**-  Energy&ZCR"
      ],
      "metadata": {
        "id": "YwDZjiUpahuo"
      }
    },
    {
      "cell_type": "code",
      "source": [
        "def combo3(signal):\n",
        "    return np.concatenate((energy(signal),computezcr(signal)))"
      ],
      "metadata": {
        "id": "bKINzlCPairm"
      },
      "execution_count": 18,
      "outputs": []
    },
    {
      "cell_type": "code",
      "source": [
        "\n",
        "X_train, X_test, y_train, y_test = load_data(feature_extractor=combo3, normalize=True)\n",
        "\n",
        "\n",
        "print('Number of training examples: {}'.format(len(X_train)))\n",
        "print('Dimensionality of the training features: {}'.format(np.array(X_train[0]).shape))\n",
        "\n",
        "\n"
      ],
      "metadata": {
        "colab": {
          "base_uri": "https://localhost:8080/"
        },
        "id": "YiWZoDEBapqw",
        "outputId": "9e08d5df-62c0-4319-8efc-ec48ea6c201c"
      },
      "execution_count": 19,
      "outputs": [
        {
          "output_type": "stream",
          "name": "stdout",
          "text": [
            "Number of training examples: 1350\n",
            "Dimensionality of the training features: (2,)\n"
          ]
        }
      ]
    },
    {
      "cell_type": "code",
      "source": [
        "# Parameters to be tested in cross-validation\n",
        "param_grid = {'C': [100, 500, 1000],\n",
        "          'gamma': [0.005, 0.01, 0.1, 0.5, 1.0], }\n",
        "\n",
        "# Support Vector Machine initialization\n",
        "clf = GridSearchCV(SVC(kernel='rbf', class_weight='balanced'), param_grid, cv=2)\n",
        "\n",
        "# Training\n",
        "t0 = time()\n",
        "clf = clf.fit(X_train, y_train)\n",
        "print('Training completed in %0.3fs' % (time() - t0))\n",
        "\n",
        "# Result of the cross validation for parameters selection\n",
        "print('Best parameters combination:')\n",
        "print(' C: '+str(clf.best_estimator_.C))\n",
        "print(' gamma: '+str(clf.best_estimator_.gamma))"
      ],
      "metadata": {
        "colab": {
          "base_uri": "https://localhost:8080/"
        },
        "id": "Dtv4YGpGavqP",
        "outputId": "adddb6e1-6b78-4ab8-c5bb-a689a44f5ecb"
      },
      "execution_count": 20,
      "outputs": [
        {
          "output_type": "stream",
          "name": "stdout",
          "text": [
            "Training completed in 6.214s\n",
            "Best parameters combination:\n",
            " C: 500\n",
            " gamma: 0.5\n"
          ]
        }
      ]
    },
    {
      "cell_type": "code",
      "source": [
        "# SVM test\n",
        "y_pred = clf.predict(X_test)\n",
        "print(classification_report(y_test, y_pred))"
      ],
      "metadata": {
        "colab": {
          "base_uri": "https://localhost:8080/"
        },
        "id": "CvfbFj5ya3Yg",
        "outputId": "3633c019-ec16-4ed0-f246-3c65e49f0ffa"
      },
      "execution_count": 21,
      "outputs": [
        {
          "output_type": "stream",
          "name": "stdout",
          "text": [
            "              precision    recall  f1-score   support\n",
            "\n",
            "           0       0.60      0.35      0.44        17\n",
            "           1       0.23      0.70      0.35        10\n",
            "           2       0.29      0.27      0.28        15\n",
            "           3       0.43      0.16      0.23        19\n",
            "           4       0.33      0.36      0.35        11\n",
            "           5       0.35      0.50      0.41        14\n",
            "           6       0.80      0.86      0.83        14\n",
            "           7       0.10      0.05      0.07        19\n",
            "           8       0.37      0.41      0.39        17\n",
            "           9       0.31      0.29      0.30        14\n",
            "\n",
            "    accuracy                           0.37       150\n",
            "   macro avg       0.38      0.39      0.36       150\n",
            "weighted avg       0.38      0.37      0.35       150\n",
            "\n"
          ]
        }
      ]
    },
    {
      "cell_type": "code",
      "source": [
        "# Confusion matrix\n",
        "print('Confusion matrix:')\n",
        "cm = confusion_matrix(y_test, y_pred)\n",
        "plt.imshow(cm, cmap=plt.cm.Oranges);\n",
        "plt.xlabel('Prediction');\n",
        "plt.ylabel('Ground truth');"
      ],
      "metadata": {
        "colab": {
          "base_uri": "https://localhost:8080/",
          "height": 467
        },
        "id": "bSYeF4t-a3cN",
        "outputId": "f0fe1bb6-2a18-41d0-f90e-94c007ea9aae"
      },
      "execution_count": 22,
      "outputs": [
        {
          "output_type": "stream",
          "name": "stdout",
          "text": [
            "Confusion matrix:\n"
          ]
        },
        {
          "output_type": "display_data",
          "data": {
            "text/plain": [
              "<Figure size 640x480 with 1 Axes>"
            ],
            "image/png": "[encoded data removed]"
          },
          "metadata": {}
        }
      ]
    },
    {
      "cell_type": "markdown",
      "source": [
        "The model correctly predicts nearly aa third of the instances, it permormes well for some classes (6) and badly for others (7)"
      ],
      "metadata": {
        "id": "tcMrb6384nfo"
      }
    },
    {
      "cell_type": "markdown",
      "source": [
        "**COMBO**- Duration&ZCR"
      ],
      "metadata": {
        "id": "aJ2BQ4zs3zEa"
      }
    },
    {
      "cell_type": "code",
      "source": [
        "def combo4(signal):\n",
        "    return np.concatenate((duration(signal),computezcr(signal)))"
      ],
      "metadata": {
        "id": "8Qic81HJa3kI"
      },
      "execution_count": 23,
      "outputs": []
    },
    {
      "cell_type": "code",
      "source": [
        "\n",
        "X_train, X_test, y_train, y_test = load_data(feature_extractor=combo4, normalize=True)\n",
        "\n",
        "\n",
        "print('Number of training examples: {}'.format(len(X_train)))\n",
        "print('Dimensionality of the training features: {}'.format(np.array(X_train[0]).shape))\n",
        "\n",
        "\n"
      ],
      "metadata": {
        "colab": {
          "base_uri": "https://localhost:8080/"
        },
        "id": "fBfnPjQ1a3nV",
        "outputId": "b9ac4162-9dde-4ca9-87b8-8f42711d09ff"
      },
      "execution_count": 24,
      "outputs": [
        {
          "output_type": "stream",
          "name": "stdout",
          "text": [
            "Number of training examples: 1350\n",
            "Dimensionality of the training features: (2,)\n"
          ]
        }
      ]
    },
    {
      "cell_type": "code",
      "source": [
        "# Parameters to be tested in cross-validation\n",
        "param_grid = {'C': [100, 500, 1000],\n",
        "          'gamma': [0.005, 0.01, 0.1, 0.5, 1.0], }\n",
        "\n",
        "# Support Vector Machine initialization\n",
        "clf = GridSearchCV(SVC(kernel='rbf', class_weight='balanced'), param_grid, cv=2)\n",
        "\n",
        "# Training\n",
        "t0 = time()\n",
        "clf = clf.fit(X_train, y_train)\n",
        "print('Training completed in %0.3fs' % (time() - t0))\n",
        "\n",
        "# Result of the cross validation for parameters selection\n",
        "print('Best parameters combination:')\n",
        "print(' C: '+str(clf.best_estimator_.C))\n",
        "print(' gamma: '+str(clf.best_estimator_.gamma))"
      ],
      "metadata": {
        "colab": {
          "base_uri": "https://localhost:8080/"
        },
        "id": "K2FukYU_bVRf",
        "outputId": "da78d6f0-5fb0-4942-d87d-3f8af67be61f"
      },
      "execution_count": 25,
      "outputs": [
        {
          "output_type": "stream",
          "name": "stdout",
          "text": [
            "Training completed in 3.196s\n",
            "Best parameters combination:\n",
            " C: 500\n",
            " gamma: 0.5\n"
          ]
        }
      ]
    },
    {
      "cell_type": "code",
      "source": [
        "# SVM test\n",
        "y_pred = clf.predict(X_test)\n",
        "print(classification_report(y_test, y_pred))"
      ],
      "metadata": {
        "colab": {
          "base_uri": "https://localhost:8080/"
        },
        "id": "YR7lgEwobZmY",
        "outputId": "1451b713-a640-4fd3-a8ac-0a6a6b2e7030"
      },
      "execution_count": 26,
      "outputs": [
        {
          "output_type": "stream",
          "name": "stdout",
          "text": [
            "              precision    recall  f1-score   support\n",
            "\n",
            "           0       0.58      0.41      0.48        17\n",
            "           1       0.37      0.70      0.48        10\n",
            "           2       0.29      0.40      0.33        15\n",
            "           3       0.38      0.16      0.22        19\n",
            "           4       0.32      0.55      0.40        11\n",
            "           5       0.07      0.07      0.07        14\n",
            "           6       0.86      0.86      0.86        14\n",
            "           7       0.18      0.16      0.17        19\n",
            "           8       0.45      0.29      0.36        17\n",
            "           9       0.57      0.57      0.57        14\n",
            "\n",
            "    accuracy                           0.39       150\n",
            "   macro avg       0.41      0.42      0.39       150\n",
            "weighted avg       0.40      0.39      0.38       150\n",
            "\n"
          ]
        }
      ]
    },
    {
      "cell_type": "code",
      "source": [
        "# Confusion matrix\n",
        "print('Confusion matrix:')\n",
        "cm = confusion_matrix(y_test, y_pred)\n",
        "plt.imshow(cm, cmap=plt.cm.Oranges);\n",
        "plt.xlabel('Prediction');\n",
        "plt.ylabel('Ground truth');"
      ],
      "metadata": {
        "colab": {
          "base_uri": "https://localhost:8080/",
          "height": 467
        },
        "id": "-mXXdvHBbdM8",
        "outputId": "80ca5269-1676-495e-91aa-28e329b8edde"
      },
      "execution_count": 27,
      "outputs": [
        {
          "output_type": "stream",
          "name": "stdout",
          "text": [
            "Confusion matrix:\n"
          ]
        },
        {
          "output_type": "display_data",
          "data": {
            "text/plain": [
              "<Figure size 640x480 with 1 Axes>"
            ],
            "image/png": "[encoded data removed]"
          },
          "metadata": {}
        }
      ]
    },
    {
      "cell_type": "markdown",
      "source": [
        "Classes like 6 and 9 have a good performance of the mdoel, other classes like 5 and 7 are problematic. Performance is however slightly better if compared with the previous combo.\n"
      ],
      "metadata": {
        "id": "ep6DfrJV5EZg"
      }
    }
  ]
}